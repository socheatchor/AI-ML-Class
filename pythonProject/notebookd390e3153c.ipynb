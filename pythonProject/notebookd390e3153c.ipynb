{
 "metadata": {
  "kernelspec": {
   "language": "python",
   "display_name": "Python 3",
   "name": "python3"
  },
  "language_info": {
   "name": "python",
   "version": "3.10.13",
   "mimetype": "text/x-python",
   "codemirror_mode": {
    "name": "ipython",
    "version": 3
   },
   "pygments_lexer": "ipython3",
   "nbconvert_exporter": "python",
   "file_extension": ".py"
  },
  "kaggle": {
   "accelerator": "none",
   "dataSources": [],
   "dockerImageVersionId": 30664,
   "isInternetEnabled": false,
   "language": "python",
   "sourceType": "notebook",
   "isGpuEnabled": false
  }
 },
 "nbformat_minor": 4,
 "nbformat": 4,
 "cells": [
  {
   "cell_type": "code",
   "source": [
    "#import the pandas and numpy library\n",
    "import numpy as np\n",
    "import pandas as pd\n",
    "\n",
    "#read the diamonds CVS file\n",
    "#build a DataFrame from the data\n",
    "df = pd.read_csv('diamonds.csv')\n",
    "\n",
    "print(df.head(10))\n",
    "print()\n",
    "\n",
    "#calculate total value of diamonds\n",
    "sum = df.price.sum()\n",
    "print(\"Total $ Value of Diamonds: ${:0.2f}\".format(mean))\n",
    "\n",
    "#calculate mean price of diamonds\n",
    "\n",
    "mean = df.price.mean()\n",
    "print(\"Mean $ value of Diamonds: ${:0,.2f}\".format(mean))\n",
    "\n",
    "# Sumarize the data\n",
    "\n",
    "descrip=df.carat.describe()\n",
    "print()\n",
    "print(descrip)\n",
    "\n",
    "descrip=df.describe(include='object')\n",
    "print()\n",
    "print(descrip)"
   ],
   "metadata": {
    "_uuid": "8f2839f25d086af736a60e9eeb907d3b93b6e0e5",
    "_cell_guid": "b1076dfc-b9ad-4769-8c92-a6c4dae69d19",
    "execution": {
     "iopub.status.busy": "2024-03-12T16:14:42.023949Z",
     "iopub.execute_input": "2024-03-12T16:14:42.024368Z",
     "iopub.status.idle": "2024-03-12T16:14:42.158428Z",
     "shell.execute_reply.started": "2024-03-12T16:14:42.024337Z",
     "shell.execute_reply": "2024-03-12T16:14:42.156976Z"
    },
    "trusted": true,
    "is_executing": true
   },
   "execution_count": null,
   "outputs": []
  },
  {
   "cell_type": "code",
   "outputs": [],
   "source": [],
   "metadata": {
    "collapsed": false
   }
  },
  {
   "cell_type": "code",
   "outputs": [],
   "source": [],
   "metadata": {
    "collapsed": false
   }
  }
 ]
}
